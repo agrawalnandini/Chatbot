{
  "nbformat": 4,
  "nbformat_minor": 0,
  "metadata": {
    "colab": {
      "name": "chatbot final",
      "provenance": [],
      "collapsed_sections": [],
      "machine_shape": "hm",
      "include_colab_link": true
    },
    "kernelspec": {
      "name": "python3",
      "display_name": "Python 3"
    },
    "accelerator": "GPU"
  },
  "cells": [
    {
      "cell_type": "markdown",
      "metadata": {
        "id": "view-in-github",
        "colab_type": "text"
      },
      "source": [
        "<a href=\"https://colab.research.google.com/github/agrawalnandini/Chatbot/blob/master/chatbot_final.ipynb\" target=\"_parent\"><img src=\"https://colab.research.google.com/assets/colab-badge.svg\" alt=\"Open In Colab\"/></a>"
      ]
    },
    {
      "cell_type": "code",
      "metadata": {
        "id": "VcPxRJak0mee",
        "colab_type": "code",
        "outputId": "c8bef1ce-47cb-4318-e371-26ce664068b1",
        "colab": {
          "base_uri": "https://localhost:8080/",
          "height": 34
        }
      },
      "source": [
        "%reset"
      ],
      "execution_count": 0,
      "outputs": [
        {
          "output_type": "stream",
          "text": [
            "Once deleted, variables cannot be recovered. Proceed (y/[n])? y\n"
          ],
          "name": "stdout"
        }
      ]
    },
    {
      "cell_type": "markdown",
      "metadata": {
        "id": "xTpaTAcVEHpb",
        "colab_type": "text"
      },
      "source": [
        "#Setup"
      ]
    },
    {
      "cell_type": "code",
      "metadata": {
        "id": "gNp6BzPGCgaW",
        "colab_type": "code",
        "outputId": "3fbe7d9f-168b-4199-8124-1e35181f361d",
        "colab": {
          "base_uri": "https://localhost:8080/",
          "height": 52
        }
      },
      "source": [
        "from keras.layers import Input, Embedding, LSTM, TimeDistributed, Dense, Bidirectional, GRU, Activation, dot, concatenate, Dropout\n",
        "from keras.models import Model, load_model\n",
        "from keras.utils import plot_model\n",
        "from sklearn.model_selection import train_test_split\n",
        "\n",
        "import pickle\n",
        "import sys\n",
        "import os\n",
        "import pandas as pd\n",
        "import numpy as np\n",
        "import re\n",
        "import nltk\n",
        "nltk.download('punkt')\n",
        "import tensorflow as tf\n",
        "import random"
      ],
      "execution_count": 0,
      "outputs": [
        {
          "output_type": "stream",
          "text": [
            "[nltk_data] Downloading package punkt to /root/nltk_data...\n",
            "[nltk_data]   Package punkt is already up-to-date!\n"
          ],
          "name": "stdout"
        }
      ]
    },
    {
      "cell_type": "code",
      "metadata": {
        "id": "1_orYRD-uXgZ",
        "colab_type": "code",
        "outputId": "26e08c02-cb11-4ef9-80f2-caa862d872d6",
        "colab": {
          "base_uri": "https://localhost:8080/",
          "height": 34
        }
      },
      "source": [
        "device_name = tf.test.gpu_device_name()\n",
        "\n",
        "if device_name != '/device:GPU:0':\n",
        "     raise SystemError('GPU device not found')\n",
        "print('Found GPU at: {}'.format(device_name))"
      ],
      "execution_count": 0,
      "outputs": [
        {
          "output_type": "stream",
          "text": [
            "Found GPU at: /device:GPU:0\n"
          ],
          "name": "stdout"
        }
      ]
    },
    {
      "cell_type": "code",
      "metadata": {
        "id": "zUFuYoW3RgRf",
        "colab_type": "code",
        "colab": {}
      },
      "source": [
        "INPUT_LENGTH = 20\n",
        "OUTPUT_LENGTH = 20 \n",
        "NUM_SAMPLES = 40000\n",
        "EMBEDDING_DIM = 100"
      ],
      "execution_count": 0,
      "outputs": []
    },
    {
      "cell_type": "code",
      "metadata": {
        "id": "BMO0KokDDF1M",
        "colab_type": "code",
        "outputId": "3ee0aeaa-7626-43f2-d3b5-fbf5b82d9ab2",
        "colab": {
          "base_uri": "https://localhost:8080/",
          "height": 34
        }
      },
      "source": [
        "#MOUNTING GOOGLE DRIVE\n",
        "\n",
        "from google.colab import drive\n",
        "drive.mount('/content/drive')"
      ],
      "execution_count": 0,
      "outputs": [
        {
          "output_type": "stream",
          "text": [
            "Drive already mounted at /content/drive; to attempt to forcibly remount, call drive.mount(\"/content/drive\", force_remount=True).\n"
          ],
          "name": "stdout"
        }
      ]
    },
    {
      "cell_type": "markdown",
      "metadata": {
        "id": "MRLRzX58D-DF",
        "colab_type": "text"
      },
      "source": [
        "#Loading & Cleaning Data"
      ]
    },
    {
      "cell_type": "code",
      "metadata": {
        "id": "nGfky2gUDQeV",
        "colab_type": "code",
        "colab": {}
      },
      "source": [
        "lines_path = '/content/drive/My Drive/movie_lines.txt'\n",
        "conv_path = '/content/drive/My Drive/movie_conversations.txt'\n",
        "glove_path = '/content/drive/My Drive/glove.twitter.27B.100d.txt'"
      ],
      "execution_count": 0,
      "outputs": []
    },
    {
      "cell_type": "code",
      "metadata": {
        "id": "U0eQfwbbCwYK",
        "colab_type": "code",
        "colab": {}
      },
      "source": [
        "# READING DATA\n",
        "\n",
        "lines = open(lines_path, encoding='utf-8', errors='ignore').read().split('\\n')\n",
        "conv_lines = open(conv_path, encoding='utf-8', errors='ignore').read().split('\\n')\n",
        "\n",
        "lineID = {}\n",
        "for line in lines:\n",
        "    _line = line.split(' +++$+++ ')\n",
        "    if len(_line) == 5:\n",
        "        #use line index as an index to the dialog (which is the 5th element)\n",
        "        lineID[_line[0]] = _line[4]\n",
        "\n",
        "convs = [ ]\n",
        "for line in conv_lines[:-1]:\n",
        "    #replacing cause of utf-8 error and removing spaces\n",
        "    _line = line.split(' +++$+++ ')[-1][1:-1].replace(\"'\",\"\").replace(\" \",\"\")\n",
        "    #appending the array of dialogs for the given conversation\n",
        "    convs.append(_line.split(','))"
      ],
      "execution_count": 0,
      "outputs": []
    },
    {
      "cell_type": "code",
      "metadata": {
        "id": "A11BCCpkFEiQ",
        "colab_type": "code",
        "colab": {}
      },
      "source": [
        "# SHUFFLING, SAMPLING DATA & SPLITTING INTO CONTEXT AND RESPONSE FOR TRAINING\n",
        "\n",
        "questions = []\n",
        "responses = []\n",
        "for conv in convs:\n",
        "    for i in range(len(conv)-1):\n",
        "        questions.append(lineID[conv[i]])\n",
        "        responses.append(lineID[conv[i+1]])\n",
        "\n",
        "    \n",
        "pairs=list(zip(questions,responses))\n",
        "random.shuffle(pairs)\n",
        "questions, responses=list(zip(*pairs))   "
      ],
      "execution_count": 0,
      "outputs": []
    },
    {
      "cell_type": "code",
      "metadata": {
        "id": "PteJeFGjFZl2",
        "colab_type": "code",
        "colab": {}
      },
      "source": [
        "\n",
        "# REPLACING CONTRACTIONS AND REMOVING SPECIAL SYMBOLS AND MAKING INTO LOWER CASE\n",
        "\n",
        "def clean_text(text):\n",
        "    text = text.lower()\n",
        "    text = re.sub(r\"i'm\", \"i am\", text)\n",
        "    text = re.sub(r\"he's\", \"he is\", text)\n",
        "    text = re.sub(r\"she's\", \"she is\", text)\n",
        "    text = re.sub(r\"it's\", \"it is\", text)\n",
        "    text = re.sub(r\"that's\", \"that is\", text)\n",
        "    text = re.sub(r\"what's\", \"what is\", text)\n",
        "    text = re.sub(r\"where's\", \"where is\", text)\n",
        "    text = re.sub(r\"how's\", \"how is\", text)\n",
        "    text = re.sub(r\"\\'ll\", \" will\", text)\n",
        "    text = re.sub(r\"\\'ve\", \" have\", text)\n",
        "    text = re.sub(r\"\\'re\", \" are\", text)\n",
        "    text = re.sub(r\"\\'d\", \" would\", text)\n",
        "    text = re.sub(r\"\\'re\", \" are\", text)\n",
        "    text = re.sub(r\"won't\", \"will not\", text)\n",
        "    text = re.sub(r\"can't\", \"cannot\", text)\n",
        "    text = re.sub(r\"n't\", \" not\", text)\n",
        "    text = re.sub(r\"[-()\\\"#/@;:<>{}`+=~|]\", \"\", text)\n",
        "    text = \" \".join(text.split())\n",
        "    return text"
      ],
      "execution_count": 0,
      "outputs": []
    },
    {
      "cell_type": "code",
      "metadata": {
        "id": "kAxVboxAGDF7",
        "colab_type": "code",
        "colab": {}
      },
      "source": [
        "# ADDING DATA TO LIST AFTER CLEANING\n",
        "\n",
        "clean_questions = []\n",
        "clean_responses = []    \n",
        "\n",
        "for i in range(len(questions)):\n",
        "    clean_questions.append(clean_text(questions[i]))\n",
        "    clean_responses.append(clean_text(responses[i]))"
      ],
      "execution_count": 0,
      "outputs": []
    },
    {
      "cell_type": "code",
      "metadata": {
        "id": "mVdgmroEKlN5",
        "colab_type": "code",
        "colab": {}
      },
      "source": [
        "# REMOVING CONTEXT AND RESPONSE >= MAX_LIN_LEN AND <= MIN_LIN_LEN\n",
        "\n",
        "min_line_len = 2\n",
        "max_line_len = 18\n",
        "\n",
        "questions_final = []\n",
        "responses_final = []\n",
        "for i in range(len(clean_questions)):\n",
        "    if (len(clean_questions[i].split())>=min_line_len and len(clean_responses[i].split())>=min_line_len \n",
        "        and len(clean_questions[i].split())<=max_line_len and len(clean_responses[i].split())<=max_line_len):\n",
        "            \n",
        "        questions_final.append(clean_questions[i])\n",
        "        responses_final.append(clean_responses[i])\n"
      ],
      "execution_count": 0,
      "outputs": []
    },
    {
      "cell_type": "code",
      "metadata": {
        "id": "jmBJQXw9MePi",
        "colab_type": "code",
        "colab": {}
      },
      "source": [
        "# SAMPLING DATA; LIMITED TO 40000 PAIRS DUE TO MEMORY CONSTRAINTS\n",
        "\n",
        "pairs=list(zip(questions_final,responses_final))\n",
        "pairs = pairs[:NUM_SAMPLES]\n",
        "questions_final, responses_final=list(zip(*pairs)) "
      ],
      "execution_count": 0,
      "outputs": []
    },
    {
      "cell_type": "code",
      "metadata": {
        "id": "URPpz75PqT-F",
        "colab_type": "code",
        "outputId": "e01976d1-0222-4605-964a-80b7cbf1c250",
        "colab": {
          "base_uri": "https://localhost:8080/",
          "height": 34
        }
      },
      "source": [
        "len(responses_final)"
      ],
      "execution_count": 0,
      "outputs": [
        {
          "output_type": "execute_result",
          "data": {
            "text/plain": [
              "40000"
            ]
          },
          "metadata": {
            "tags": []
          },
          "execution_count": 374
        }
      ]
    },
    {
      "cell_type": "markdown",
      "metadata": {
        "id": "zxoUxoj1Ta8K",
        "colab_type": "text"
      },
      "source": [
        "#Preprocessing"
      ]
    },
    {
      "cell_type": "code",
      "metadata": {
        "id": "Z_eyScofow0Y",
        "colab_type": "code",
        "colab": {}
      },
      "source": [
        "# def save_obj(obj, name ):\n",
        "#     with open(name + '.pkl', 'wb') as f:\n",
        "#         pickle.dump(obj, f, pickle.HIGHEST_PROTOCOL)\n",
        "\n",
        "# def load_obj(name ):\n",
        "#     with open(name + '.pkl', 'rb') as f:\n",
        "#         return pickle.load(f)"
      ],
      "execution_count": 0,
      "outputs": []
    },
    {
      "cell_type": "code",
      "metadata": {
        "id": "l5kEPm-WZgDL",
        "colab_type": "code",
        "colab": {}
      },
      "source": [
        "# SPLITTING SENTENCES TO WORDS\n",
        "questions_final_tok=[]\n",
        "responses_final_tok=[]\n",
        "\n",
        "for i in range(0,NUM_SAMPLES):\n",
        "    questions_final_tok.append(nltk.word_tokenize(questions_final[i]))\n",
        "    responses_final_tok.append(nltk.word_tokenize(responses_final[i]))"
      ],
      "execution_count": 0,
      "outputs": []
    },
    {
      "cell_type": "code",
      "metadata": {
        "id": "QftpmbBsTwSn",
        "colab_type": "code",
        "colab": {}
      },
      "source": [
        "# CREATING A DICTIONARY WITH WORD FREQUENCY\n",
        "\n",
        "vocab = {}\n",
        "for sentence in questions_final_tok + responses_final_tok:\n",
        "    for word in sentence:\n",
        "        if word in vocab:\n",
        "            vocab[word] += 1\n",
        "        else:\n",
        "            vocab[word] = 1"
      ],
      "execution_count": 0,
      "outputs": []
    },
    {
      "cell_type": "code",
      "metadata": {
        "id": "kKlv2Qu5cM73",
        "colab_type": "code",
        "colab": {}
      },
      "source": [
        "PADDING_ENCODING = 0\n",
        "START_ENCODING = 1\n",
        "index = 2\n",
        "rare_word_limit = 10"
      ],
      "execution_count": 0,
      "outputs": []
    },
    {
      "cell_type": "code",
      "metadata": {
        "id": "lCwBByAiWoeE",
        "colab_type": "code",
        "colab": {}
      },
      "source": [
        "# CREATING MAPPINGS FOR WORDS; FOR REPRESENTING WORDS AS NUMERIC VALUES \n",
        "\n",
        "word_to_idx = {} \n",
        "idx_to_word = {1: '<START>'} \n",
        "\n",
        "for word, count in vocab.items():\n",
        "    if (count >= rare_word_limit): \n",
        "        word_to_idx[word] = index \n",
        "        idx_to_word[index] = word\n",
        "        index += 1  "
      ],
      "execution_count": 0,
      "outputs": []
    },
    {
      "cell_type": "code",
      "metadata": {
        "id": "vSO86eOxW8pH",
        "colab_type": "code",
        "colab": {}
      },
      "source": [
        "# ADDING RARE WORDS TO MAPPINGS AS <UNK>\n",
        "\n",
        "num_unique_words = len(word_to_idx)\n",
        "idx_to_word[num_unique_words + 2] = '<UNK>'\n",
        "word_to_idx['<UNK>'] = len(word_to_idx)+2"
      ],
      "execution_count": 0,
      "outputs": []
    },
    {
      "cell_type": "code",
      "metadata": {
        "id": "k7TvARIUYlhG",
        "colab_type": "code",
        "colab": {}
      },
      "source": [
        "# SIZE OF DICTIONARY WILL BE NUMBER OF UNIQUE WORDS + 1 FOR UNK\n",
        "\n",
        "dict_size = index + 1"
      ],
      "execution_count": 0,
      "outputs": []
    },
    {
      "cell_type": "code",
      "metadata": {
        "id": "Q0e13gdxPkfq",
        "colab_type": "code",
        "outputId": "28e3d4c6-d848-4ed1-98aa-b48ed4dedb9a",
        "colab": {
          "base_uri": "https://localhost:8080/",
          "height": 34
        }
      },
      "source": [
        "dict_size"
      ],
      "execution_count": 0,
      "outputs": [
        {
          "output_type": "execute_result",
          "data": {
            "text/plain": [
              "3133"
            ]
          },
          "metadata": {
            "tags": []
          },
          "execution_count": 382
        }
      ]
    },
    {
      "cell_type": "code",
      "metadata": {
        "id": "fwWx0_bTS8vy",
        "colab_type": "code",
        "colab": {}
      },
      "source": [
        "print(vocab)"
      ],
      "execution_count": 0,
      "outputs": []
    },
    {
      "cell_type": "code",
      "metadata": {
        "id": "A_wy7VQJY8bk",
        "colab_type": "code",
        "colab": {}
      },
      "source": [
        "# FUNCTION TO ENCODE WORDS TO NUM USING THE MAPPINGS CREATED\n",
        "def encode_to_idx(data):\n",
        "  DIM = INPUT_LENGTH\n",
        "  encoded_input = np.zeros(shape=(len(data), DIM))\n",
        "  for i in range(len(data)):\n",
        "    for j in range(min(len(data[i]), DIM)):\n",
        "      try:\n",
        "        encoded_input[i][j] = word_to_idx[data[i][j]]\n",
        "      except:\n",
        "        encoded_input[i][j] = word_to_idx['<UNK>']\n",
        "  return encoded_input"
      ],
      "execution_count": 0,
      "outputs": []
    },
    {
      "cell_type": "code",
      "metadata": {
        "id": "8Kv_KWNZTNCg",
        "colab_type": "code",
        "colab": {}
      },
      "source": [
        "# SPLITTING INTO TRAIN + VALIDATION SETS\n",
        "\n",
        "training_input, validation_input, training_output, validation_output = train_test_split(questions_final_tok, responses_final_tok, test_size=0.2, random_state=1)\n",
        "training_input  = [tr_input[::-1] for tr_input in training_input] \n",
        "# validation_input  = [val_input[::-1] for val_input in validation_input]"
      ],
      "execution_count": 0,
      "outputs": []
    },
    {
      "cell_type": "code",
      "metadata": {
        "id": "hmfEKvUJZVPx",
        "colab_type": "code",
        "colab": {}
      },
      "source": [
        "# CALLING FUNCTION TO ENCODE\n",
        "\n",
        "final_training_input = encode_to_idx(training_input)\n",
        "final_training_output = encode_to_idx(training_output)\n",
        "\n",
        "# final_validation_input = encode_to_idx(word_to_idx, validation_input)\n",
        "# final_validation_output = encode_to_idx(word_to_idx, validation_output)"
      ],
      "execution_count": 0,
      "outputs": []
    },
    {
      "cell_type": "code",
      "metadata": {
        "id": "3eqKqcSAHFeh",
        "colab_type": "code",
        "colab": {}
      },
      "source": [
        "# READING GLOVE VECTOR PRETRAINED MODEL\n",
        "\n",
        "# read in the EMBEDDING_DIM dimensional GloVe embeddings\n",
        "#making lists of words in the Glove file and its word_to_vec embedding\n",
        "def read_glove_vecs(file):\n",
        "    with open(file, 'r') as f:\n",
        "        words = set()\n",
        "        word_to_vec_map = {}\n",
        "        \n",
        "        for line in f:\n",
        "            line = line.strip().split()\n",
        "            word = line[0]\n",
        "            words.add(word)\n",
        "            word_to_vec_map[word] = np.array(line[1:], dtype=np.float64)\n",
        "            \n",
        "    return words, word_to_vec_map\n",
        "\n",
        "words, word_to_vec_map = read_glove_vecs(glove_path)"
      ],
      "execution_count": 0,
      "outputs": []
    },
    {
      "cell_type": "code",
      "metadata": {
        "id": "e6Af5a371SLB",
        "colab_type": "code",
        "outputId": "580cb1a3-fa52-43e2-ed3e-108197c11876",
        "colab": {
          "base_uri": "https://localhost:8080/",
          "height": 34
        }
      },
      "source": [
        "len(final_training_input)"
      ],
      "execution_count": 0,
      "outputs": [
        {
          "output_type": "execute_result",
          "data": {
            "text/plain": [
              "32000"
            ]
          },
          "metadata": {
            "tags": []
          },
          "execution_count": 387
        }
      ]
    },
    {
      "cell_type": "code",
      "metadata": {
        "id": "zZZPN8T_HgMa",
        "colab_type": "code",
        "colab": {}
      },
      "source": [
        "# FORMING EMBEDDING MATRIX BASED ON OUR DATA AND THE GLOVE VECTORS\n",
        "\n",
        "# since the indexes start from 1 and not 0, we add 1 to the no. of total words to get the vocabulary size (while initializing \n",
        "# initialize the embedding matrix that will be used (EMBEDDING_DIM is the GloVe vector dimension)\n",
        "embedding_matrix = np.zeros((dict_size, EMBEDDING_DIM))\n",
        "for word, index in word_to_idx.items():\n",
        "    try:\n",
        "        embedding_matrix[index, :] = word_to_vec_map[word.lower()]\n",
        "    except: continue"
      ],
      "execution_count": 0,
      "outputs": []
    },
    {
      "cell_type": "code",
      "metadata": {
        "id": "j5Wgbkxpj2JC",
        "colab_type": "code",
        "colab": {}
      },
      "source": [
        "# PREPARING DATA FOR MODEL\n",
        "\n",
        "training_encoder_input = final_training_input\n",
        "training_decoder_input = np.zeros_like(final_training_output)\n",
        "training_decoder_input[:, 1:] = final_training_output[:,:-1]\n",
        "training_decoder_input[:, 0] = START_ENCODING\n",
        "training_decoder_output = np.eye(dict_size)[final_training_output.astype('int')]\n",
        "\n",
        "# validation_encoder_input = final_validation_input\n",
        "# validation_decoder_input = np.zeros_like(final_validation_output)\n",
        "# validation_decoder_input[:, 1:] = final_validation_output[:,:-1]\n",
        "# validation_decoder_input[:, 0] = START_ENCODING\n",
        "# validation_decoder_output = np.eye(dict_size)[final_validation_output.astype('int')]"
      ],
      "execution_count": 0,
      "outputs": []
    },
    {
      "cell_type": "markdown",
      "metadata": {
        "id": "f-vzsfksjp4_",
        "colab_type": "text"
      },
      "source": [
        "# Model"
      ]
    },
    {
      "cell_type": "code",
      "metadata": {
        "id": "Yo1yXjY5ln5A",
        "colab_type": "code",
        "colab": {}
      },
      "source": [
        "BATCH_SIZE = 64\n",
        "EPOCHS = 30"
      ],
      "execution_count": 0,
      "outputs": []
    },
    {
      "cell_type": "code",
      "metadata": {
        "id": "TCgxslAvjqqY",
        "colab_type": "code",
        "colab": {}
      },
      "source": [
        "encoder_input = Input(shape=(INPUT_LENGTH,))\n",
        "decoder_input = Input(shape=(OUTPUT_LENGTH,))"
      ],
      "execution_count": 0,
      "outputs": []
    },
    {
      "cell_type": "code",
      "metadata": {
        "id": "NCtH8LOHjuXM",
        "colab_type": "code",
        "colab": {}
      },
      "source": [
        "from keras.regularizers import l2\n",
        "embed_layer = Embedding(dict_size, EMBEDDING_DIM, input_length=INPUT_LENGTH, mask_zero=True) #, weights = [embedding_matrix])\n",
        "encoder = embed_layer(encoder_input)\n",
        "encoder = Bidirectional(LSTM(256,return_sequences=True, unroll=True))(encoder)\n",
        "encoder = Dropout(0.2)(encoder)\n",
        "encoder_last = encoder[:,-1,:]\n",
        "\n",
        "embed_layer = Embedding(dict_size, EMBEDDING_DIM, input_length=OUTPUT_LENGTH, mask_zero=True,weights=[embedding_matrix])\n",
        "decoder = embed_layer(decoder_input)\n",
        "decoder = LSTM(512, recurrent_regularizer=l2(0.01),return_sequences=True, unroll=True)(decoder, initial_state=[encoder_last,encoder_last])\n",
        "\n",
        "attention = dot([decoder, encoder], axes=[2, 2])\n",
        "attention = Activation('softmax', name='attention')(attention)\n",
        "context = dot([attention, encoder], axes=[2,1])\n",
        "\n",
        "decoder_combined_context = concatenate([context, decoder])\n",
        "\n",
        "output = TimeDistributed(Dense(512, activation=\"tanh\"))(decoder_combined_context)\n",
        "output = TimeDistributed(Dense(dict_size, activation=\"softmax\"))(output)"
      ],
      "execution_count": 0,
      "outputs": []
    },
    {
      "cell_type": "code",
      "metadata": {
        "id": "GbeBdD9ijuQC",
        "colab_type": "code",
        "colab": {}
      },
      "source": [
        "model = Model(inputs=[encoder_input, decoder_input], outputs=[output])\n",
        "model.compile(optimizer='adam' , loss='categorical_crossentropy', metrics = ['accuracy'])"
      ],
      "execution_count": 0,
      "outputs": []
    },
    {
      "cell_type": "code",
      "metadata": {
        "id": "BH2rcMmjlyuQ",
        "colab_type": "code",
        "outputId": "6687df8f-a8c4-465f-a6fb-6a9673bc4b58",
        "colab": {
          "base_uri": "https://localhost:8080/",
          "height": 660
        }
      },
      "source": [
        "model.summary()"
      ],
      "execution_count": 0,
      "outputs": [
        {
          "output_type": "stream",
          "text": [
            "Model: \"model_7\"\n",
            "__________________________________________________________________________________________________\n",
            "Layer (type)                    Output Shape         Param #     Connected to                     \n",
            "==================================================================================================\n",
            "input_15 (InputLayer)           (None, 20)           0                                            \n",
            "__________________________________________________________________________________________________\n",
            "input_16 (InputLayer)           (None, 20)           0                                            \n",
            "__________________________________________________________________________________________________\n",
            "embedding_15 (Embedding)        (None, 20, 100)      313300      input_15[0][0]                   \n",
            "__________________________________________________________________________________________________\n",
            "embedding_16 (Embedding)        (None, 20, 100)      313300      input_16[0][0]                   \n",
            "__________________________________________________________________________________________________\n",
            "bidirectional_8 (Bidirectional) (None, 20, 512)      731136      embedding_15[0][0]               \n",
            "__________________________________________________________________________________________________\n",
            "lstm_16 (LSTM)                  (None, 20, 512)      1255424     embedding_16[0][0]               \n",
            "__________________________________________________________________________________________________\n",
            "dropout_8 (Dropout)             (None, 20, 512)      0           bidirectional_8[0][0]            \n",
            "__________________________________________________________________________________________________\n",
            "dot_15 (Dot)                    (None, 20, 20)       0           lstm_16[0][0]                    \n",
            "                                                                 dropout_8[0][0]                  \n",
            "__________________________________________________________________________________________________\n",
            "attention (Activation)          (None, 20, 20)       0           dot_15[0][0]                     \n",
            "__________________________________________________________________________________________________\n",
            "dot_16 (Dot)                    (None, 20, 512)      0           attention[0][0]                  \n",
            "                                                                 dropout_8[0][0]                  \n",
            "__________________________________________________________________________________________________\n",
            "concatenate_8 (Concatenate)     (None, 20, 1024)     0           dot_16[0][0]                     \n",
            "                                                                 lstm_16[0][0]                    \n",
            "__________________________________________________________________________________________________\n",
            "time_distributed_15 (TimeDistri (None, 20, 512)      524800      concatenate_8[0][0]              \n",
            "__________________________________________________________________________________________________\n",
            "time_distributed_16 (TimeDistri (None, 20, 3133)     1607229     time_distributed_15[0][0]        \n",
            "==================================================================================================\n",
            "Total params: 4,745,189\n",
            "Trainable params: 4,745,189\n",
            "Non-trainable params: 0\n",
            "__________________________________________________________________________________________________\n"
          ],
          "name": "stdout"
        }
      ]
    },
    {
      "cell_type": "code",
      "metadata": {
        "id": "kJ-8Af7Clz-a",
        "colab_type": "code",
        "outputId": "db42bf73-6c6e-4c4f-cbc3-a2ae7b4368b4",
        "colab": {
          "base_uri": "https://localhost:8080/",
          "height": 953
        }
      },
      "source": [
        "plot_model(model)"
      ],
      "execution_count": 0,
      "outputs": [
        {
          "output_type": "execute_result",
          "data": {
            "image/png": "[encoded data removed]",
            "text/plain": [
              "<IPython.core.display.Image object>"
            ]
          },
          "metadata": {
            "tags": []
          },
          "execution_count": 395
        }
      ]
    },
    {
      "cell_type": "code",
      "metadata": {
        "id": "-pppA_tE0EuQ",
        "colab_type": "code",
        "outputId": "9962113a-bc16-4691-850f-07a65e19b99b",
        "colab": {
          "base_uri": "https://localhost:8080/",
          "height": 34
        }
      },
      "source": [
        "len(training_encoder_input)"
      ],
      "execution_count": 0,
      "outputs": [
        {
          "output_type": "execute_result",
          "data": {
            "text/plain": [
              "32000"
            ]
          },
          "metadata": {
            "tags": []
          },
          "execution_count": 396
        }
      ]
    },
    {
      "cell_type": "code",
      "metadata": {
        "id": "6nqFWChCllMl",
        "colab_type": "code",
        "outputId": "9e7d6398-6df9-443c-9582-1e7f614dd743",
        "colab": {
          "base_uri": "https://localhost:8080/",
          "height": 1000
        }
      },
      "source": [
        "model.fit(x=[training_encoder_input, training_decoder_input], y=[training_decoder_output],batch_size=BATCH_SIZE, epochs=30)"
      ],
      "execution_count": 0,
      "outputs": [
        {
          "output_type": "stream",
          "text": [
            "/usr/local/lib/python3.6/dist-packages/tensorflow/python/framework/indexed_slices.py:434: UserWarning: Converting sparse IndexedSlices to a dense Tensor of unknown shape. This may consume a large amount of memory.\n",
            "  \"Converting sparse IndexedSlices to a dense Tensor of unknown shape. \"\n"
          ],
          "name": "stderr"
        },
        {
          "output_type": "stream",
          "text": [
            "Epoch 1/30\n",
            "32000/32000 [==============================] - 36s 1ms/step - loss: 2.4096 - accuracy: 0.2519\n",
            "Epoch 2/30\n",
            "32000/32000 [==============================] - 32s 989us/step - loss: 1.9836 - accuracy: 0.3028\n",
            "Epoch 3/30\n",
            "32000/32000 [==============================] - 32s 996us/step - loss: 1.9018 - accuracy: 0.3142\n",
            "Epoch 4/30\n",
            "32000/32000 [==============================] - 32s 989us/step - loss: 1.8428 - accuracy: 0.3227\n",
            "Epoch 5/30\n",
            "32000/32000 [==============================] - 32s 986us/step - loss: 1.7907 - accuracy: 0.3297\n",
            "Epoch 6/30\n",
            "32000/32000 [==============================] - 32s 989us/step - loss: 1.7415 - accuracy: 0.3358\n",
            "Epoch 7/30\n",
            "32000/32000 [==============================] - 32s 985us/step - loss: 1.6924 - accuracy: 0.3429\n",
            "Epoch 8/30\n",
            "32000/32000 [==============================] - 32s 989us/step - loss: 1.6403 - accuracy: 0.3514\n",
            "Epoch 9/30\n",
            "32000/32000 [==============================] - 31s 981us/step - loss: 1.5870 - accuracy: 0.3602\n",
            "Epoch 10/30\n",
            "32000/32000 [==============================] - 31s 976us/step - loss: 1.5314 - accuracy: 0.3722\n",
            "Epoch 11/30\n",
            "32000/32000 [==============================] - 32s 987us/step - loss: 1.4746 - accuracy: 0.3849\n",
            "Epoch 12/30\n",
            "32000/32000 [==============================] - 31s 983us/step - loss: 1.4170 - accuracy: 0.4002\n",
            "Epoch 13/30\n",
            "32000/32000 [==============================] - 32s 987us/step - loss: 1.3600 - accuracy: 0.4161\n",
            "Epoch 14/30\n",
            "32000/32000 [==============================] - 31s 981us/step - loss: 1.3015 - accuracy: 0.4342\n",
            "Epoch 15/30\n",
            "32000/32000 [==============================] - 31s 974us/step - loss: 1.2453 - accuracy: 0.4522\n",
            "Epoch 16/30\n",
            "32000/32000 [==============================] - 32s 989us/step - loss: 1.1896 - accuracy: 0.4708\n",
            "Epoch 17/30\n",
            "32000/32000 [==============================] - 31s 982us/step - loss: 1.1352 - accuracy: 0.4909\n",
            "Epoch 18/30\n",
            "32000/32000 [==============================] - 31s 981us/step - loss: 1.0826 - accuracy: 0.5110\n",
            "Epoch 19/30\n",
            "32000/32000 [==============================] - 31s 982us/step - loss: 1.0321 - accuracy: 0.5304\n",
            "Epoch 20/30\n",
            "32000/32000 [==============================] - 31s 976us/step - loss: 0.9827 - accuracy: 0.5501\n",
            "Epoch 21/30\n",
            "32000/32000 [==============================] - 32s 992us/step - loss: 0.9356 - accuracy: 0.5694\n",
            "Epoch 22/30\n",
            "32000/32000 [==============================] - 31s 983us/step - loss: 0.8912 - accuracy: 0.5888\n",
            "Epoch 23/30\n",
            "32000/32000 [==============================] - 31s 979us/step - loss: 0.8480 - accuracy: 0.6073\n",
            "Epoch 24/30\n",
            "32000/32000 [==============================] - 32s 986us/step - loss: 0.8072 - accuracy: 0.6249\n",
            "Epoch 25/30\n",
            "32000/32000 [==============================] - 31s 968us/step - loss: 0.7677 - accuracy: 0.6425\n",
            "Epoch 26/30\n",
            "32000/32000 [==============================] - 31s 980us/step - loss: 0.7314 - accuracy: 0.6593\n",
            "Epoch 27/30\n",
            "32000/32000 [==============================] - 32s 986us/step - loss: 0.6952 - accuracy: 0.6755\n",
            "Epoch 28/30\n",
            "32000/32000 [==============================] - 31s 974us/step - loss: 0.6620 - accuracy: 0.6912\n",
            "Epoch 29/30\n",
            "32000/32000 [==============================] - 31s 982us/step - loss: 0.6298 - accuracy: 0.7071\n",
            "Epoch 30/30\n",
            "32000/32000 [==============================] - 31s 975us/step - loss: 0.5988 - accuracy: 0.7202\n"
          ],
          "name": "stdout"
        },
        {
          "output_type": "execute_result",
          "data": {
            "text/plain": [
              "<keras.callbacks.callbacks.History at 0x7fd533a298d0>"
            ]
          },
          "metadata": {
            "tags": []
          },
          "execution_count": 397
        }
      ]
    },
    {
      "cell_type": "code",
      "metadata": {
        "id": "drnA6AYzvTpK",
        "colab_type": "code",
        "colab": {}
      },
      "source": [
        "#model.save_weights('/content/drive/My Drive/model_attention_weights.h5')"
      ],
      "execution_count": 0,
      "outputs": []
    },
    {
      "cell_type": "markdown",
      "metadata": {
        "id": "x7lzh0Rnl_Ah",
        "colab_type": "text"
      },
      "source": [
        "# Prediction & Testing"
      ]
    },
    {
      "cell_type": "code",
      "metadata": {
        "id": "APmruuyOdT0U",
        "colab_type": "code",
        "colab": {}
      },
      "source": [
        "# model.load_weights(\"/content/drive/My Drive/model_attention_weights.h5\")\n",
        "# word_to_idx=load_obj(\"wordidx\")\n",
        "# idx_to_word=load_obj(\"idxword\")\n",
        "# vocab=load_obj(vocab,\"vocab\")"
      ],
      "execution_count": 0,
      "outputs": []
    },
    {
      "cell_type": "code",
      "metadata": {
        "id": "fcEPoteCmAAX",
        "colab_type": "code",
        "colab": {}
      },
      "source": [
        "# PREDICTING FROM GIVEN INPUT\n",
        "\n",
        "def test_on_input(raw_input):\n",
        "    #clean_input = clean_text(raw_input)\n",
        "    #input_tokens = [nltk.word_tokenize(clean_input)]\n",
        "    input_tokens = [raw_input[0][::-1]]\n",
        "    encoder_input = encode_to_idx(input_tokens)\n",
        "    decoder_input = np.zeros(shape=(len(encoder_input), OUTPUT_LENGTH))\n",
        "    decoder_input[:,0] = START_ENCODING\n",
        "\n",
        "    for i in range(1, OUTPUT_LENGTH):\n",
        "        output = model.predict([encoder_input, decoder_input]).argmax(axis=2)\n",
        "        decoder_input[:,i] = output[:,i]\n",
        "    return output"
      ],
      "execution_count": 0,
      "outputs": []
    },
    {
      "cell_type": "code",
      "metadata": {
        "id": "a3KcGShw3TdU",
        "colab_type": "code",
        "colab": {}
      },
      "source": [
        "# PREDICTING FROM GIVEN INPUT\n",
        "\n",
        "def chat_with_bot(raw_input):\n",
        "    clean_input = clean_text(raw_input)\n",
        "    input_tokens = [nltk.word_tokenize(clean_input)]\n",
        "    input_tokens = [input_tokens[0][::-1]]\n",
        "    encoder_input = encode_to_idx(input_tokens)\n",
        "    decoder_input = np.zeros(shape=(len(encoder_input), OUTPUT_LENGTH))\n",
        "    decoder_input[:,0] = START_ENCODING\n",
        "\n",
        "    for i in range(1, OUTPUT_LENGTH):\n",
        "        output = model.predict([encoder_input, decoder_input]).argmax(axis=2)\n",
        "        decoder_input[:,i] = output[:,i]\n",
        "    return output"
      ],
      "execution_count": 0,
      "outputs": []
    },
    {
      "cell_type": "code",
      "metadata": {
        "id": "Sjx6AB6Gmgfw",
        "colab_type": "code",
        "colab": {}
      },
      "source": [
        "# FUNCTION TO DECODE VECTOR REPRESENTATION OF OUTPUT\n",
        "\n",
        "def decode(vector_representation):\n",
        "    text = ''\n",
        "    for i in vector_representation:\n",
        "        if i == 0:\n",
        "            break\n",
        "        text += ' '\n",
        "        text += idx_to_word[i]\n",
        "    return text"
      ],
      "execution_count": 0,
      "outputs": []
    },
    {
      "cell_type": "code",
      "metadata": {
        "id": "42ER52mk2R9C",
        "colab_type": "code",
        "colab": {}
      },
      "source": [
        "def join_tokens(token_list):\n",
        "  statement=' '.join(token_list)\n",
        "  return statement"
      ],
      "execution_count": 0,
      "outputs": []
    },
    {
      "cell_type": "code",
      "metadata": {
        "id": "kn8ullaQnz0y",
        "colab_type": "code",
        "outputId": "d302d241-99bd-4fe5-e4ee-b1fc45d8e392",
        "colab": {
          "base_uri": "https://localhost:8080/",
          "height": 538
        }
      },
      "source": [
        "for i in range(720,730):\n",
        "  question=validation_input[i]\n",
        "  output=test_on_input(question)\n",
        "  decoded_output=decode(output[0])\n",
        "  print(\"Context: \",join_tokens(validation_input[i]))\n",
        "  print(\"Predicted: \",decoded_output)\n",
        "  print(\"Actual: \",join_tokens(validation_output[i]))\n",
        "  "
      ],
      "execution_count": 0,
      "outputs": [
        {
          "output_type": "stream",
          "text": [
            "Context:  hey , sport . how are things ?\n",
            "Predicted:   it was you , your majesty .\n",
            "Actual:  o.k. , cowboy .\n",
            "Context:  you do not know ? she left thirty minutes ago .\n",
            "Predicted:   he was not <UNK> that you were wearing !\n",
            "Actual:  where would she go ?\n",
            "Context:  what are they going to do ?\n",
            "Predicted:   that is right .\n",
            "Actual:  do you always wear your hair like that ?\n",
            "Context:  maybe i do .\n",
            "Predicted:   jon ? whom ? whom ? how they are they ?\n",
            "Actual:  maybe i do not need your ideas . maybe i can do better on my own .\n",
            "Context:  joey , what is more important , the kids ' clothes or your sexual potency .\n",
            "Predicted:   you ever <UNK> him .\n",
            "Actual:  i do not want to hear that word !\n",
            "Context:  what was her name ?\n",
            "Predicted:   that is right .\n",
            "Actual:  camila . camila valencias .\n",
            "Context:  and he can arrange for the porters to take us back ?\n",
            "Predicted:   only one word for a <UNK> ?\n",
            "Actual:  the high lama arranges everything , mr. conway .\n",
            "Context:  angie . he says she was a real scrawny looking thing .\n",
            "Predicted:   no . you are saying it is too dangerous , <UNK> .\n",
            "Actual:  she was not so bad .\n",
            "Context:  yes , dr. louis judd .\n",
            "Predicted:   you do not know it was . that is a fucking joke .\n",
            "Actual:  it is here , too .\n",
            "Context:  you need to sleep .\n",
            "Predicted:   he was not <UNK> that you were wearing !\n",
            "Actual:  bring him .\n"
          ],
          "name": "stdout"
        }
      ]
    },
    {
      "cell_type": "code",
      "metadata": {
        "id": "Jvk4h_kRVAq3",
        "colab_type": "code",
        "outputId": "deddc2e9-59ed-4f55-cf01-68c7e73e0524",
        "colab": {
          "base_uri": "https://localhost:8080/",
          "height": 456
        }
      },
      "source": [
        "#CHATTING WITH \n",
        "#encode_to_idx, cleantext,word_to_idx\n",
        "while True:\n",
        "  question=input()\n",
        "  output = chat_with_bot(question)\n",
        "  decoded_output = decode(output[0])\n",
        "  print (decoded_output)"
      ],
      "execution_count": 0,
      "outputs": [
        {
          "output_type": "stream",
          "text": [
            "hi\n",
            " hi , david .\n",
            "how are you?\n",
            " i am tired .\n",
            "where are you?\n",
            " i am everywhere .\n",
            "what are you doing?\n",
            " i am a <UNK> .\n",
            "i see\n",
            " yeah . but i think it is a fact .\n",
            "i agree\n",
            " i wish i could not tell you .\n",
            "it is okay\n",
            " i have to go home and work .\n",
            "okay\n",
            " yeah . definitely .\n",
            "okay bye\n",
            " unless ya wan na get breakfast .\n",
            "sure i dont mind\n",
            " you are not going to destroy it .\n",
            "thank you\n",
            " i have been <UNK> my lunch hour . i will get you through the <UNK> .\n",
            "fuck you\n",
            " no , it is just ... it is a <UNK> you got ta do it .\n"
          ],
          "name": "stdout"
        }
      ]
    }
  ]
}